{
 "cells": [
  {
   "cell_type": "code",
   "execution_count": 1,
   "id": "761ef8af-7292-4562-a3ad-8ff1251c0991",
   "metadata": {},
   "outputs": [],
   "source": [
    "import import_ipynb\n",
    "import plotly\n",
    "import plotly.graph_objects as go\n",
    "from plotly.subplots import make_subplots"
   ]
  },
  {
   "cell_type": "code",
   "execution_count": 2,
   "id": "7e329c38-e2a6-4b8a-8a03-6246bc0024fd",
   "metadata": {},
   "outputs": [
    {
     "name": "stdout",
     "output_type": "stream",
     "text": [
      "importing Jupyter notebook from preproc.ipynb\n",
      "CPU times: user 5 s, sys: 2.8 s, total: 7.79 s\n",
      "Wall time: 6.75 s\n"
     ]
    }
   ],
   "source": [
    "%%time\n",
    "import preproc as pp"
   ]
  },
  {
   "cell_type": "code",
   "execution_count": 3,
   "id": "e5f48751-9de1-4d43-ac7f-8d2bc36a02cf",
   "metadata": {},
   "outputs": [],
   "source": [
    "show = False # if True shows images and does not save files"
   ]
  },
  {
   "cell_type": "code",
   "execution_count": 4,
   "id": "2c0fec8e-a91f-41d1-9c1e-0efdbe8c4087",
   "metadata": {},
   "outputs": [],
   "source": [
    "fig = make_subplots(rows=3, cols=1)\n",
    "fig.add_trace(go.Scatter(x=pp.i1.network_general[0]['Timestamp'], y=pp.i1.network_general[0]['TimeDelta'], mode='lines', name='i1'), row=1, col=1)\n",
    "fig.add_trace(go.Scatter(x=pp.i2.network_general[0]['Timestamp'], y=pp.i2.network_general[0]['TimeDelta'], mode='lines', name='i2'), row=2, col=1)\n",
    "fig.add_trace(go.Scatter(x=pp.i3.network_general[0]['Timestamp'], y=pp.i3.network_general[0]['TimeDelta'], mode='lines', name='i3'), row=3, col=1)\n",
    "fig.update_layout(height=800, width=1000, title='Time Delta (TCP stream, all containers)')\n",
    "fig.show() if show else fig.write_image('img/lineplot.all.timedelta.png')"
   ]
  },
  {
   "cell_type": "code",
   "execution_count": 5,
   "id": "a814dcd5-40ab-4648-9791-bf2ba4efc92b",
   "metadata": {},
   "outputs": [],
   "source": [
    "fig = make_subplots(rows=3, cols=1)\n",
    "fig.add_trace(go.Scatter(x=pp.i1.structure_container[0]['Timestamp'], y=pp.i1.structure_container[0]['CPUPercUsage'], mode='lines', name='i1'), row=1, col=1)\n",
    "fig.add_trace(go.Scatter(x=pp.i2.structure_container[0]['Timestamp'], y=pp.i2.structure_container[0]['CPUPercUsage'], mode='lines', name='i2'), row=2, col=1)\n",
    "fig.add_trace(go.Scatter(x=pp.i3.structure_container[0]['Timestamp'], y=pp.i3.structure_container[0]['CPUPercUsage'], mode='lines', name='i3'), row=3, col=1)\n",
    "fig.update_layout(height=800, width=1000, title='CPU Usage (all containers)')\n",
    "fig.show() if show else fig.write_image('img/lineplot.all.cpuusage.png')"
   ]
  },
  {
   "cell_type": "code",
   "execution_count": 6,
   "id": "9d357780-d0de-4fc3-9815-36c8475b93a1",
   "metadata": {},
   "outputs": [],
   "source": [
    "fig = make_subplots(rows=3, cols=1)\n",
    "fig.add_trace(go.Scatter(x=pp.i1.structure_container[0]['Timestamp'], y=pp.i1.structure_container[0]['MemoryPercUsage'], mode='lines', name='i1'), row=1, col=1)\n",
    "fig.add_trace(go.Scatter(x=pp.i2.structure_container[0]['Timestamp'], y=pp.i2.structure_container[0]['MemoryPercUsage'], mode='lines', name='i2'), row=2, col=1)\n",
    "fig.add_trace(go.Scatter(x=pp.i3.structure_container[0]['Timestamp'], y=pp.i3.structure_container[0]['MemoryPercUsage'], mode='lines', name='i3'), row=3, col=1)\n",
    "fig.update_layout(height=800, width=1000, title='Memory Usage (all containers)')\n",
    "fig.show() if show else fig.write_image('img/lineplot.all.memusage.png')"
   ]
  }
 ],
 "metadata": {
  "kernelspec": {
   "display_name": "Python 3 (ipykernel)",
   "language": "python",
   "name": "python3"
  },
  "language_info": {
   "codemirror_mode": {
    "name": "ipython",
    "version": 3
   },
   "file_extension": ".py",
   "mimetype": "text/x-python",
   "name": "python",
   "nbconvert_exporter": "python",
   "pygments_lexer": "ipython3",
   "version": "3.11.5"
  }
 },
 "nbformat": 4,
 "nbformat_minor": 5
}
