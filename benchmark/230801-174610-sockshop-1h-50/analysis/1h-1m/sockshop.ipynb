{
 "cells": [
  {
   "cell_type": "markdown",
   "id": "2593dd94-7a4d-4a21-bc95-9165f83d9e2d",
   "metadata": {},
   "source": [
    "# Sockshop results"
   ]
  },
  {
   "cell_type": "markdown",
   "id": "f92eda66-fc2a-480c-aeec-810fbb51e9db",
   "metadata": {},
   "source": [
    "- day length: 1m, 1h\n",
    "- number of iteration: 3 for each day\n",
    "- captured payloads: network, structure, metrics\n",
    "- scale: 50"
   ]
  },
  {
   "cell_type": "code",
   "execution_count": 1,
   "id": "53ca7a81-f6ab-4d15-b14e-7aa57e9e9694",
   "metadata": {},
   "outputs": [],
   "source": [
    "import import_ipynb\n",
    "import dataframe_image as dfi\n",
    "import pandas as pd\n",
    "import plotly.graph_objects as go\n",
    "from plotly.subplots import make_subplots"
   ]
  },
  {
   "cell_type": "code",
   "execution_count": 2,
   "id": "5f6e3c41-5731-4daf-be69-d735ab845aba",
   "metadata": {},
   "outputs": [],
   "source": [
    "pd.options.plotting.backend = \"plotly\""
   ]
  },
  {
   "cell_type": "code",
   "execution_count": 3,
   "id": "4048565e-d35d-4443-bf92-e3095b6453e0",
   "metadata": {},
   "outputs": [],
   "source": [
    "import plotly.io as pio\n",
    "pio.renderers.default = \"jupyterlab\""
   ]
  },
  {
   "cell_type": "code",
   "execution_count": 4,
   "id": "6232efc1-9711-4057-928c-8016f60dc87c",
   "metadata": {},
   "outputs": [
    {
     "name": "stdout",
     "output_type": "stream",
     "text": [
      "CPU times: user 23.5 s, sys: 5.47 s, total: 29 s\n",
      "Wall time: 29.1 s\n"
     ]
    }
   ],
   "source": [
    "%%time\n",
    "%%capture\n",
    "import sockshop_t1mx3s50 as t1mx3\n",
    "import sockshop_t1hx3s50 as t1hx3"
   ]
  },
  {
   "cell_type": "markdown",
   "id": "ddbb4222-1e1a-4dde-8416-3c63fc1eb95b",
   "metadata": {},
   "source": [
    "## Metrics results"
   ]
  },
  {
   "cell_type": "code",
   "execution_count": 5,
   "id": "2b7b4cab-bcb5-4457-9611-01c7dfae94ce",
   "metadata": {},
   "outputs": [
    {
     "data": {
      "text/html": [
       "<div>\n",
       "<style scoped>\n",
       "    .dataframe tbody tr th:only-of-type {\n",
       "        vertical-align: middle;\n",
       "    }\n",
       "\n",
       "    .dataframe tbody tr th {\n",
       "        vertical-align: top;\n",
       "    }\n",
       "\n",
       "    .dataframe thead th {\n",
       "        text-align: right;\n",
       "    }\n",
       "</style>\n",
       "<table border=\"1\" class=\"dataframe\">\n",
       "  <thead>\n",
       "    <tr style=\"text-align: right;\">\n",
       "      <th></th>\n",
       "      <th>mean of means</th>\n",
       "      <th>std of means</th>\n",
       "      <th>95% conf interval</th>\n",
       "    </tr>\n",
       "    <tr>\n",
       "      <th>t1mx3s50</th>\n",
       "      <th></th>\n",
       "      <th></th>\n",
       "      <th></th>\n",
       "    </tr>\n",
       "  </thead>\n",
       "  <tbody>\n",
       "    <tr>\n",
       "      <th>Time delta</th>\n",
       "      <td>2.346288</td>\n",
       "      <td>1.113050</td>\n",
       "      <td>(1.0867530279165227, 3.6058223430833585)</td>\n",
       "    </tr>\n",
       "    <tr>\n",
       "      <th>CPU usage percentage</th>\n",
       "      <td>17.525258</td>\n",
       "      <td>0.404344</td>\n",
       "      <td>(17.06769922816573, 17.982815892395223)</td>\n",
       "    </tr>\n",
       "    <tr>\n",
       "      <th>Memory usage percentage</th>\n",
       "      <td>1.039562</td>\n",
       "      <td>0.133940</td>\n",
       "      <td>(0.8879943673914071, 1.1911296370014306)</td>\n",
       "    </tr>\n",
       "    <tr>\n",
       "      <th>Throughput</th>\n",
       "      <td>73.826467</td>\n",
       "      <td>15.801216</td>\n",
       "      <td>(55.945707761290805, 91.7072269279661)</td>\n",
       "    </tr>\n",
       "    <tr>\n",
       "      <th>Latency mean (s)</th>\n",
       "      <td>13.445862</td>\n",
       "      <td>2.845819</td>\n",
       "      <td>(10.225514506375209, 16.666209148291458)</td>\n",
       "    </tr>\n",
       "  </tbody>\n",
       "</table>\n",
       "</div>"
      ],
      "text/plain": [
       "                         mean of means  std of means  \\\n",
       "t1mx3s50                                               \n",
       "Time delta                    2.346288      1.113050   \n",
       "CPU usage percentage         17.525258      0.404344   \n",
       "Memory usage percentage       1.039562      0.133940   \n",
       "Throughput                   73.826467     15.801216   \n",
       "Latency mean (s)             13.445862      2.845819   \n",
       "\n",
       "                                                95% conf interval  \n",
       "t1mx3s50                                                           \n",
       "Time delta               (1.0867530279165227, 3.6058223430833585)  \n",
       "CPU usage percentage      (17.06769922816573, 17.982815892395223)  \n",
       "Memory usage percentage  (0.8879943673914071, 1.1911296370014306)  \n",
       "Throughput                 (55.945707761290805, 91.7072269279661)  \n",
       "Latency mean (s)         (10.225514506375209, 16.666209148291458)  "
      ]
     },
     "execution_count": 5,
     "metadata": {},
     "output_type": "execute_result"
    }
   ],
   "source": [
    "t1mx3_results = pd.concat([t1mx3.timedelta_results, t1mx3.cpu_usage_results, t1mx3.memory_usage_results, \\\n",
    "                           t1mx3.throughput_results, t1mx3.latency_mean_results])\n",
    "t1mx3_results.index.name = \"t1mx3s50\"\n",
    "t1mx3_results"
   ]
  },
  {
   "cell_type": "code",
   "execution_count": 6,
   "id": "14fc5001-c182-4784-a731-3752497d0fdd",
   "metadata": {},
   "outputs": [],
   "source": [
    "# t1mx3_results.dfi.export('images/t1mx3s50.png')"
   ]
  },
  {
   "cell_type": "code",
   "execution_count": 7,
   "id": "6c04d73e-52ae-4093-9e9f-da6535e712e3",
   "metadata": {},
   "outputs": [],
   "source": [
    "t1mx3_results.to_csv('t1mx3s50.csv')"
   ]
  },
  {
   "cell_type": "code",
   "execution_count": 8,
   "id": "a02344e3-faf1-4edf-8268-63afad834da3",
   "metadata": {},
   "outputs": [
    {
     "data": {
      "text/html": [
       "<div>\n",
       "<style scoped>\n",
       "    .dataframe tbody tr th:only-of-type {\n",
       "        vertical-align: middle;\n",
       "    }\n",
       "\n",
       "    .dataframe tbody tr th {\n",
       "        vertical-align: top;\n",
       "    }\n",
       "\n",
       "    .dataframe thead th {\n",
       "        text-align: right;\n",
       "    }\n",
       "</style>\n",
       "<table border=\"1\" class=\"dataframe\">\n",
       "  <thead>\n",
       "    <tr style=\"text-align: right;\">\n",
       "      <th></th>\n",
       "      <th>mean of means</th>\n",
       "      <th>std of means</th>\n",
       "      <th>95% conf interval</th>\n",
       "    </tr>\n",
       "    <tr>\n",
       "      <th>t1hx3s50</th>\n",
       "      <th></th>\n",
       "      <th></th>\n",
       "      <th></th>\n",
       "    </tr>\n",
       "  </thead>\n",
       "  <tbody>\n",
       "    <tr>\n",
       "      <th>Time delta</th>\n",
       "      <td>4.977988</td>\n",
       "      <td>1.103032</td>\n",
       "      <td>(3.729789094982187, 6.226186257132086)</td>\n",
       "    </tr>\n",
       "    <tr>\n",
       "      <th>CPU usage percentage</th>\n",
       "      <td>2.468408</td>\n",
       "      <td>0.696935</td>\n",
       "      <td>(1.6797517580376753, 3.2570649153040914)</td>\n",
       "    </tr>\n",
       "    <tr>\n",
       "      <th>Memory usage percentage</th>\n",
       "      <td>1.643402</td>\n",
       "      <td>0.252183</td>\n",
       "      <td>(1.3580296201909512, 1.9287742668466001)</td>\n",
       "    </tr>\n",
       "    <tr>\n",
       "      <th>Throughput</th>\n",
       "      <td>17.000251</td>\n",
       "      <td>0.000005</td>\n",
       "      <td>(17.000245660364556, 17.00025649154329)</td>\n",
       "    </tr>\n",
       "    <tr>\n",
       "      <th>Latency mean (s)</th>\n",
       "      <td>0.006393</td>\n",
       "      <td>0.000084</td>\n",
       "      <td>(0.006298215585638398, 0.0064874950810282685)</td>\n",
       "    </tr>\n",
       "  </tbody>\n",
       "</table>\n",
       "</div>"
      ],
      "text/plain": [
       "                         mean of means  std of means  \\\n",
       "t1hx3s50                                               \n",
       "Time delta                    4.977988      1.103032   \n",
       "CPU usage percentage          2.468408      0.696935   \n",
       "Memory usage percentage       1.643402      0.252183   \n",
       "Throughput                   17.000251      0.000005   \n",
       "Latency mean (s)              0.006393      0.000084   \n",
       "\n",
       "                                                     95% conf interval  \n",
       "t1hx3s50                                                                \n",
       "Time delta                      (3.729789094982187, 6.226186257132086)  \n",
       "CPU usage percentage          (1.6797517580376753, 3.2570649153040914)  \n",
       "Memory usage percentage       (1.3580296201909512, 1.9287742668466001)  \n",
       "Throughput                     (17.000245660364556, 17.00025649154329)  \n",
       "Latency mean (s)         (0.006298215585638398, 0.0064874950810282685)  "
      ]
     },
     "execution_count": 8,
     "metadata": {},
     "output_type": "execute_result"
    }
   ],
   "source": [
    "t1hx3_results = pd.concat([t1hx3.timedelta_results, t1hx3.cpu_usage_results, t1hx3.memory_usage_results, \\\n",
    "                           t1hx3.throughput_results, t1hx3.latency_mean_results])\n",
    "t1hx3_results.index.name = \"t1hx3s50\"\n",
    "t1hx3_results"
   ]
  },
  {
   "cell_type": "code",
   "execution_count": 9,
   "id": "a9e5e719-9416-4966-a4ef-03f2fd21a403",
   "metadata": {},
   "outputs": [],
   "source": [
    "# t1hx3_results.dfi.export('images/t1hx3s50.png')"
   ]
  },
  {
   "cell_type": "markdown",
   "id": "b80c7609-d6b3-4ba9-8dab-ef2c36f64710",
   "metadata": {},
   "source": [
    "## Metrics comparisons"
   ]
  },
  {
   "cell_type": "code",
   "execution_count": 10,
   "id": "cc1141eb-8180-4b9f-a5b9-ee18aff3f978",
   "metadata": {},
   "outputs": [],
   "source": [
    "def bar_plot(title, filename, df):\n",
    "    fig = make_subplots(rows=1, cols=2)\n",
    "    indexes = list(df.index)\n",
    "\n",
    "    fig.add_trace(\n",
    "        go.Bar(x=indexes, y=df[\"mean of means\"], name=\"mean of means\"),\n",
    "        row=1, col=1\n",
    "    )\n",
    "    \n",
    "    fig.add_trace(\n",
    "        go.Bar(x=indexes, y=df[\"std of means\"], name=\"std of means\"),\n",
    "        row=1, col=2\n",
    "    )\n",
    "    fig.update_layout(height=400, width=1000, title_text=title)\n",
    "    # save figure with 300 dpi (TODO): https://community.plotly.com/t/image-export-how-to-set-dpi-alternatively-how-to-scale-down-using-width-and-height/49536\n",
    "    # TODO: not working\n",
    "    # fig.write_image(title.lower().replace(\" \", \"_\") + \"_plot.png\", height=400*300, width=1000*300, scale=1)\n",
    "    fig_title = \"images/\" + filename + \".png\"\n",
    "    fig.write_image(fig_title)\n",
    "    fig.show()"
   ]
  },
  {
   "cell_type": "code",
   "execution_count": 11,
   "id": "8ee84a5e-6c7a-4880-9cb4-037a1d3b215b",
   "metadata": {},
   "outputs": [
    {
     "data": {
      "text/html": [
       "<div>\n",
       "<style scoped>\n",
       "    .dataframe tbody tr th:only-of-type {\n",
       "        vertical-align: middle;\n",
       "    }\n",
       "\n",
       "    .dataframe tbody tr th {\n",
       "        vertical-align: top;\n",
       "    }\n",
       "\n",
       "    .dataframe thead th {\n",
       "        text-align: right;\n",
       "    }\n",
       "</style>\n",
       "<table border=\"1\" class=\"dataframe\">\n",
       "  <thead>\n",
       "    <tr style=\"text-align: right;\">\n",
       "      <th></th>\n",
       "      <th>mean of means</th>\n",
       "      <th>std of means</th>\n",
       "      <th>95% conf interval</th>\n",
       "    </tr>\n",
       "    <tr>\n",
       "      <th>Time delta</th>\n",
       "      <th></th>\n",
       "      <th></th>\n",
       "      <th></th>\n",
       "    </tr>\n",
       "  </thead>\n",
       "  <tbody>\n",
       "    <tr>\n",
       "      <th>1m</th>\n",
       "      <td>2.346288</td>\n",
       "      <td>1.113050</td>\n",
       "      <td>(1.0867530279165227, 3.6058223430833585)</td>\n",
       "    </tr>\n",
       "    <tr>\n",
       "      <th>1h</th>\n",
       "      <td>4.977988</td>\n",
       "      <td>1.103032</td>\n",
       "      <td>(3.729789094982187, 6.226186257132086)</td>\n",
       "    </tr>\n",
       "  </tbody>\n",
       "</table>\n",
       "</div>"
      ],
      "text/plain": [
       "            mean of means  std of means  \\\n",
       "Time delta                                \n",
       "1m               2.346288      1.113050   \n",
       "1h               4.977988      1.103032   \n",
       "\n",
       "                                   95% conf interval  \n",
       "Time delta                                            \n",
       "1m          (1.0867530279165227, 3.6058223430833585)  \n",
       "1h            (3.729789094982187, 6.226186257132086)  "
      ]
     },
     "execution_count": 11,
     "metadata": {},
     "output_type": "execute_result"
    }
   ],
   "source": [
    "timedelta = pd.concat([t1mx3.timedelta_results, t1hx3.timedelta_results])\n",
    "timedelta.index = ([\"1m\", \"1h\"])\n",
    "timedelta.index.name = \"Time delta\"\n",
    "timedelta"
   ]
  },
  {
   "cell_type": "code",
   "execution_count": 12,
   "id": "63f34a55-c2d7-434a-9e91-2bc51c4791c5",
   "metadata": {},
   "outputs": [],
   "source": [
    "# timedelta.dfi.export('images/time_delta_data.png')"
   ]
  },
  {
   "cell_type": "code",
   "execution_count": null,
   "id": "ef749793-b421-49c2-9527-e77cf41a050a",
   "metadata": {},
   "outputs": [],
   "source": [
    "bar_plot(\"Time delta\", \"time_delta_plot\", timedelta)"
   ]
  },
  {
   "cell_type": "code",
   "execution_count": null,
   "id": "fe2689bd-42b7-47db-abfd-5117250a444e",
   "metadata": {},
   "outputs": [],
   "source": [
    "cpu_usage = pd.concat([t1mx3.cpu_usage_results, t1hx3.cpu_usage_results])\n",
    "cpu_usage.index = ([\"1m\", \"1h\"])\n",
    "cpu_usage.index.name = \"CPU usage percentage\"\n",
    "cpu_usage"
   ]
  },
  {
   "cell_type": "code",
   "execution_count": null,
   "id": "f749ab5f-4de7-4e07-9467-2e67d6f4eee3",
   "metadata": {},
   "outputs": [],
   "source": [
    "# cpu_usage.dfi.export('images/cpu_usage_data.png')"
   ]
  },
  {
   "cell_type": "code",
   "execution_count": null,
   "id": "f5b65cea-f8a3-47da-9743-ceabf1b4ae1c",
   "metadata": {},
   "outputs": [],
   "source": [
    "bar_plot(\"CPU usage percentage\", \"cpu_usage_plot\", cpu_usage)"
   ]
  },
  {
   "cell_type": "code",
   "execution_count": null,
   "id": "1ad56585-c283-49fe-a22b-ec17e4456116",
   "metadata": {},
   "outputs": [],
   "source": [
    "memory_usage = pd.concat([t1mx3.memory_usage_results, t1hx3.memory_usage_results])\n",
    "memory_usage.index = ([\"1m\", \"1h\"])\n",
    "memory_usage.index.name = \"Memory usage percentage\"\n",
    "memory_usage"
   ]
  },
  {
   "cell_type": "code",
   "execution_count": null,
   "id": "a5bf42a0-98dc-4ebc-bd41-c57911e07c6d",
   "metadata": {},
   "outputs": [],
   "source": [
    "# memory_usage.dfi.export('images/memory_usage_data.png')"
   ]
  },
  {
   "cell_type": "code",
   "execution_count": null,
   "id": "bd8ae968-a6ae-4bbd-bfd8-376b01c75dcf",
   "metadata": {},
   "outputs": [],
   "source": [
    "bar_plot(\"Memory usage percentage\",\"memory_usage_plot\", memory_usage)"
   ]
  },
  {
   "cell_type": "code",
   "execution_count": null,
   "id": "a7d428ed-1c1e-4763-a4e5-95d861d78869",
   "metadata": {},
   "outputs": [],
   "source": [
    "throughput = pd.concat([t1mx3.throughput_results, t1hx3.throughput_results])\n",
    "throughput.index = ([\"1m\", \"1h\"])\n",
    "throughput.index.name = \"Throughput\"\n",
    "throughput"
   ]
  },
  {
   "cell_type": "code",
   "execution_count": null,
   "id": "eda75f5e-b47a-4f6f-90f9-481d646510d2",
   "metadata": {},
   "outputs": [],
   "source": [
    "# throughput.dfi.export('images/throughput_data.png')"
   ]
  },
  {
   "cell_type": "code",
   "execution_count": null,
   "id": "fd5de074-70f7-443c-b3cb-aa0c2407b848",
   "metadata": {},
   "outputs": [],
   "source": [
    "bar_plot(\"Throughput\", \"throughput_plot\", throughput)"
   ]
  },
  {
   "cell_type": "code",
   "execution_count": null,
   "id": "0b591b8f-5782-4014-867e-4a593a0329b2",
   "metadata": {},
   "outputs": [],
   "source": [
    "latency_mean = pd.concat([t1mx3.latency_mean_results, t1hx3.latency_mean_results])\n",
    "latency_mean.index = ([\"1m\", \"1h\"])\n",
    "latency_mean.index.name = \"Latency mean (s)\"\n",
    "latency_mean"
   ]
  },
  {
   "cell_type": "code",
   "execution_count": null,
   "id": "c947c9ae-6f63-42fc-b638-5213a1136df0",
   "metadata": {},
   "outputs": [],
   "source": [
    "# latency_mean.dfi.export('images/latency_mean_data.png')"
   ]
  },
  {
   "cell_type": "code",
   "execution_count": null,
   "id": "70f8c80a-0d41-498a-92e0-99cb651bc503",
   "metadata": {},
   "outputs": [],
   "source": [
    "bar_plot(\"Latency mean (s)\", \"latency_mean_plot\", latency_mean)"
   ]
  }
 ],
 "metadata": {
  "kernelspec": {
   "display_name": "Python 3 (ipykernel)",
   "language": "python",
   "name": "python3"
  },
  "language_info": {
   "codemirror_mode": {
    "name": "ipython",
    "version": 3
   },
   "file_extension": ".py",
   "mimetype": "text/x-python",
   "name": "python",
   "nbconvert_exporter": "python",
   "pygments_lexer": "ipython3",
   "version": "3.11.3"
  }
 },
 "nbformat": 4,
 "nbformat_minor": 5
}
