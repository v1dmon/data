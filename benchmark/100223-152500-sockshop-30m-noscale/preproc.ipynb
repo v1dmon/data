{
 "cells": [
  {
   "cell_type": "code",
   "execution_count": 1,
   "id": "eadfc5c5-18ae-4658-a6ff-a4c6e044f5d6",
   "metadata": {},
   "outputs": [],
   "source": [
    "import os\n",
    "import sys\n",
    "import pandas as pd\n",
    "\n",
    "sys.path.append(os.path.abspath(os.path.join('../../../analysis')))\n",
    "import analysis as ay"
   ]
  },
  {
   "cell_type": "code",
   "execution_count": 2,
   "id": "d4835445-a6ec-44bd-88bd-5c5a311c4fc2",
   "metadata": {},
   "outputs": [],
   "source": [
    "# %%time\n",
    "i1 = ay.Exec(dir='./sockshop-10-04-23T14-08-47', name='t30mi1', filters=[ \"network/general\", \"structure/container\", \"http/metrics\" ])\n",
    "i2 = ay.Exec(dir='./sockshop-10-04-23T15-33-06', name='t30mi2', filters=[ \"network/general\", \"structure/container\", \"http/metrics\" ])\n",
    "i3 = ay.Exec(dir='./sockshop-10-04-23T16-45-58', name='t30mi3', filters=[ \"network/general\", \"structure/container\", \"http/metrics\" ])"
   ]
  },
  {
   "cell_type": "code",
   "execution_count": 3,
   "id": "c70733a1-d10e-4b8d-8794-d38ccfd3fbf3",
   "metadata": {},
   "outputs": [],
   "source": [
    "# %%time\n",
    "i1.network_general = ay.clean_network_general_dataframe(ay.transform_data_to_dataframes(i1.data[\"network/general\"], i1.data[\"iterations\"]))\n",
    "i1.structure_container = ay.clean_structure_container_dataframe(ay.transform_data_to_dataframes(i1.data[\"structure/container\"], i1.data[\"iterations\"]))\n",
    "i1.http_metrics = ay.clean_http_metrics_dataframe(ay.transform_data_to_dataframes(i1.data[\"http/metrics\"], i1.data[\"iterations\"]))\n",
    "\n",
    "i2.network_general = ay.clean_network_general_dataframe(ay.transform_data_to_dataframes(i2.data[\"network/general\"], i2.data[\"iterations\"]))\n",
    "i2.structure_container = ay.clean_structure_container_dataframe(ay.transform_data_to_dataframes(i2.data[\"structure/container\"], i2.data[\"iterations\"]))\n",
    "i2.http_metrics = ay.clean_http_metrics_dataframe(ay.transform_data_to_dataframes(i2.data[\"http/metrics\"], i2.data[\"iterations\"]))\n",
    "\n",
    "i3.network_general = ay.clean_network_general_dataframe(ay.transform_data_to_dataframes(i3.data[\"network/general\"], i3.data[\"iterations\"]))\n",
    "i3.structure_container = ay.clean_structure_container_dataframe(ay.transform_data_to_dataframes(i3.data[\"structure/container\"], i3.data[\"iterations\"]))\n",
    "i3.http_metrics = ay.clean_http_metrics_dataframe(ay.transform_data_to_dataframes(i3.data[\"http/metrics\"], i3.data[\"iterations\"]))"
   ]
  },
  {
   "cell_type": "code",
   "execution_count": 4,
   "id": "16cacf4c-5a4e-4028-8ff3-b985c7a29bb6",
   "metadata": {},
   "outputs": [],
   "source": [
    "columns = ['mean_of_means', 'std_of_means', '95_conf_interval']\n",
    "\n",
    "i1.timedelta_stats = pd.DataFrame([ay.cmp_stats(i1.network_general, \"TimeDelta\")], columns=columns, index=['TimeDelta'])\n",
    "i1.cpu_usage_stats = pd.DataFrame([ay.cmp_stats(i1.structure_container, \"CPUPercUsage\")], columns=columns, index=['CpuUsage'])\n",
    "i1.memory_usage_stats = pd.DataFrame([ay.cmp_stats(i1.structure_container, \"MemoryPercUsage\")], columns=columns, index=['MemoryUsage'])\n",
    "i1.throughput_stats = pd.DataFrame([ay.cmp_stats(i1.http_metrics, \"throughput\")], columns=columns, index=['Throughput'])\n",
    "i1.latency_stats = pd.DataFrame([ay.cmp_stats(i1.http_metrics, \"latency_mean\")], columns=columns, index=['LatencyMean'])\n",
    "\n",
    "i1.stats = pd.concat([i1.timedelta_stats, i1.cpu_usage_stats, i1.memory_usage_stats, i1.throughput_stats, i1.latency_stats])\n",
    "i1.stats.index.name = 't1hi1'"
   ]
  },
  {
   "cell_type": "code",
   "execution_count": 5,
   "id": "9349fc4c-43d7-4e2c-af8d-3893f5d374d6",
   "metadata": {},
   "outputs": [],
   "source": [
    "i2.timedelta_stats = pd.DataFrame([ay.cmp_stats(i2.network_general, \"TimeDelta\")], columns=columns, index=['TimeDelta'])\n",
    "i2.cpu_usage_stats = pd.DataFrame([ay.cmp_stats(i2.structure_container, \"CPUPercUsage\")], columns=columns, index=['CpuUsage'])\n",
    "i2.memory_usage_stats = pd.DataFrame([ay.cmp_stats(i2.structure_container, \"MemoryPercUsage\")], columns=columns, index=['MemoryUsage'])\n",
    "i2.throughput_stats = pd.DataFrame([ay.cmp_stats(i2.http_metrics, \"throughput\")], columns=columns, index=['Throughput'])\n",
    "i2.latency_stats = pd.DataFrame([ay.cmp_stats(i2.http_metrics, \"latency_mean\")], columns=columns, index=['LatencyMean'])\n",
    "\n",
    "i2.stats = pd.concat([i2.timedelta_stats, i2.cpu_usage_stats, i2.memory_usage_stats, i2.throughput_stats, i2.latency_stats])\n",
    "i2.stats.index.name = 't1hi2'"
   ]
  },
  {
   "cell_type": "code",
   "execution_count": 6,
   "id": "3137bc35-3867-4edb-8f23-c75c20257961",
   "metadata": {},
   "outputs": [],
   "source": [
    "i3.timedelta_stats = pd.DataFrame([ay.cmp_stats(i3.network_general, \"TimeDelta\")], columns=columns, index=['TimeDelta'])\n",
    "i3.cpu_usage_stats = pd.DataFrame([ay.cmp_stats(i3.structure_container, \"CPUPercUsage\")], columns=columns, index=['CpuUsage'])\n",
    "i3.memory_usage_stats = pd.DataFrame([ay.cmp_stats(i3.structure_container, \"MemoryPercUsage\")], columns=columns, index=['MemoryUsage'])\n",
    "i3.throughput_stats = pd.DataFrame([ay.cmp_stats(i3.http_metrics, \"throughput\")], columns=columns, index=['Throughput'])\n",
    "i3.latency_stats = pd.DataFrame([ay.cmp_stats(i3.http_metrics, \"latency_mean\")], columns=columns, index=['LatencyMean'])\n",
    "\n",
    "i3.stats = pd.concat([i3.timedelta_stats, i3.cpu_usage_stats, i3.memory_usage_stats, i3.throughput_stats, i3.latency_stats])\n",
    "i3.stats.index.name = 't1hi3'"
   ]
  },
  {
   "cell_type": "code",
   "execution_count": 7,
   "id": "d42e6b12-b7ec-4cfc-b1ee-a63ce8e68f5c",
   "metadata": {},
   "outputs": [],
   "source": [
    "i1.stats.to_csv('csv/stats.i1.csv')\n",
    "i2.stats.to_csv('csv/stats.i2.csv')\n",
    "i3.stats.to_csv('csv/stats.i3.csv')"
   ]
  }
 ],
 "metadata": {
  "kernelspec": {
   "display_name": "Python 3 (ipykernel)",
   "language": "python",
   "name": "python3"
  },
  "language_info": {
   "codemirror_mode": {
    "name": "ipython",
    "version": 3
   },
   "file_extension": ".py",
   "mimetype": "text/x-python",
   "name": "python",
   "nbconvert_exporter": "python",
   "pygments_lexer": "ipython3",
   "version": "3.11.5"
  }
 },
 "nbformat": 4,
 "nbformat_minor": 5
}
