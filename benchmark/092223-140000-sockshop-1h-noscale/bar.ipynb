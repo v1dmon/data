{
 "cells": [
  {
   "cell_type": "code",
   "execution_count": 1,
   "id": "761ef8af-7292-4562-a3ad-8ff1251c0991",
   "metadata": {},
   "outputs": [],
   "source": [
    "import import_ipynb\n",
    "import pandas as pd\n",
    "import plotly\n",
    "import plotly.graph_objects as go\n",
    "from plotly.subplots import make_subplots"
   ]
  },
  {
   "cell_type": "code",
   "execution_count": 2,
   "id": "7e329c38-e2a6-4b8a-8a03-6246bc0024fd",
   "metadata": {},
   "outputs": [
    {
     "name": "stdout",
     "output_type": "stream",
     "text": [
      "importing Jupyter notebook from preproc.ipynb\n",
      "CPU times: user 4.54 s, sys: 2.2 s, total: 6.73 s\n",
      "Wall time: 6.74 s\n"
     ]
    }
   ],
   "source": [
    "%%time\n",
    "import preproc as pp"
   ]
  },
  {
   "cell_type": "code",
   "execution_count": 3,
   "id": "23ebe7d1-e449-43ed-8254-4d8dca0e2c51",
   "metadata": {},
   "outputs": [],
   "source": [
    "show = False # if True shows images and does not save files"
   ]
  },
  {
   "cell_type": "code",
   "execution_count": 4,
   "id": "4a26f5a3-813a-481d-832f-9d5147e92238",
   "metadata": {},
   "outputs": [],
   "source": [
    "cpuusage = pd.concat([\n",
    "    pp.i1.stats.loc['CpuUsage'].to_frame().T,\n",
    "    pp.i2.stats.loc['CpuUsage'].to_frame().T,\n",
    "    pp.i3.stats.loc['CpuUsage'].to_frame().T\n",
    "])\n",
    "cpuusage.index = ('i1', 'i2', 'i3')\n",
    "cpuusage.index.name = 'CpuUsage'\n",
    "\n",
    "\n",
    "fig = make_subplots(rows=1, cols=2)\n",
    "fig.add_trace(go.Bar(x=cpuusage.index, y=cpuusage['mean_of_means'], name='mean of means'), row=1, col=1)\n",
    "fig.add_trace(go.Bar(x=cpuusage.index, y=cpuusage['std_of_means'], name='std of means'), row=1, col=2)\n",
    "fig.update_layout(height=500, width=1000, title='CPU Usage (all containers)')\n",
    "fig.show() if show else fig.write_image('img/barplot.all.cpuusage.png')    "
   ]
  },
  {
   "cell_type": "code",
   "execution_count": 5,
   "id": "6b39727c-8dbb-4b6e-adba-32cf8d1aa686",
   "metadata": {},
   "outputs": [],
   "source": [
    "memusage = pd.concat([\n",
    "    pp.i1.stats.loc['MemoryUsage'].to_frame().T,\n",
    "    pp.i2.stats.loc['MemoryUsage'].to_frame().T,\n",
    "    pp.i3.stats.loc['MemoryUsage'].to_frame().T\n",
    "])\n",
    "memusage.index = ('i1', 'i2', 'i3')\n",
    "memusage.index.name = 'MemoryUsage'\n",
    "\n",
    "\n",
    "fig = make_subplots(rows=1, cols=2)\n",
    "fig.add_trace(go.Bar(x=memusage.index, y=memusage['mean_of_means'], name='mean of means'), row=1, col=1)\n",
    "fig.add_trace(go.Bar(x=memusage.index, y=memusage['std_of_means'], name='std of means'), row=1, col=2)\n",
    "fig.update_layout(height=500, width=1000, title='Memory Usage (all containers)')\n",
    "fig.show() if show else fig.write_image('img/barplot.all.memusage.png')"
   ]
  },
  {
   "cell_type": "code",
   "execution_count": 6,
   "id": "529dd437-afd8-458c-9240-67402dd00074",
   "metadata": {},
   "outputs": [],
   "source": [
    "timedelta = pd.concat([\n",
    "    pp.i1.stats.loc['TimeDelta'].to_frame().T,\n",
    "    pp.i2.stats.loc['TimeDelta'].to_frame().T,\n",
    "    pp.i3.stats.loc['TimeDelta'].to_frame().T\n",
    "])\n",
    "timedelta.index = ('i1', 'i2', 'i3')\n",
    "timedelta.index.name = 'TimeDelta'\n",
    "\n",
    "fig = make_subplots(rows=1, cols=2)\n",
    "fig.add_trace(go.Bar(x=timedelta.index, y=timedelta['mean_of_means'], name='mean of means'), row=1, col=1)\n",
    "fig.add_trace(go.Bar(x=timedelta.index, y=timedelta['std_of_means'], name='std of means'), row=1, col=2)\n",
    "fig.update_layout(height=500, width=1000, title='Time Delta (TCP stream, all containers)')\n",
    "fig.show() if show else fig.write_image('img/barplot.all.timedelta.png')"
   ]
  },
  {
   "cell_type": "code",
   "execution_count": 7,
   "id": "cadcd517-80b3-4480-9eb4-2f68aedc31ad",
   "metadata": {},
   "outputs": [],
   "source": [
    "throughput = pd.concat([\n",
    "    pp.i1.stats.loc['Throughput'].to_frame().T,\n",
    "    pp.i2.stats.loc['Throughput'].to_frame().T,\n",
    "    pp.i3.stats.loc['Throughput'].to_frame().T\n",
    "])\n",
    "throughput.index = ('i1', 'i2', 'i3')\n",
    "throughput.index.name = 'Throughput'\n",
    "\n",
    "\n",
    "fig = make_subplots(rows=1, cols=2)\n",
    "fig.add_trace(go.Bar(x=throughput.index, y=throughput['mean_of_means'], name='mean of means'), row=1, col=1)\n",
    "fig.add_trace(go.Bar(x=throughput.index, y=throughput['std_of_means'], name='std of means'), row=1, col=2)\n",
    "fig.update_layout(height=500, width=1000, title='Throughput')\n",
    "fig.show() if show else fig.write_image('img/barplot.all.throughput.png')"
   ]
  },
  {
   "cell_type": "code",
   "execution_count": 8,
   "id": "72c893cb-1a1a-477d-b03a-800ea359f2f2",
   "metadata": {},
   "outputs": [],
   "source": [
    "latency = pd.concat([\n",
    "    pp.i1.stats.loc['LatencyMean'].to_frame().T,\n",
    "    pp.i2.stats.loc['LatencyMean'].to_frame().T,\n",
    "    pp.i3.stats.loc['LatencyMean'].to_frame().T\n",
    "])\n",
    "latency.index = ('i1', 'i2', 'i3')\n",
    "latency.index.name = 'LatencyMean'\n",
    "\n",
    "\n",
    "fig = make_subplots(rows=1, cols=2)\n",
    "fig.add_trace(go.Bar(x=latency.index, y=latency['mean_of_means'], name='mean of means'), row=1, col=1)\n",
    "fig.add_trace(go.Bar(x=latency.index, y=latency['std_of_means'], name='std of means'), row=1, col=2)\n",
    "fig.update_layout(height=500, width=1000, title='Latency (of requests)')\n",
    "fig.show() if show else fig.write_image('img/barplot.all.latency.png')"
   ]
  }
 ],
 "metadata": {
  "kernelspec": {
   "display_name": "Python 3 (ipykernel)",
   "language": "python",
   "name": "python3"
  },
  "language_info": {
   "codemirror_mode": {
    "name": "ipython",
    "version": 3
   },
   "file_extension": ".py",
   "mimetype": "text/x-python",
   "name": "python",
   "nbconvert_exporter": "python",
   "pygments_lexer": "ipython3",
   "version": "3.11.5"
  }
 },
 "nbformat": 4,
 "nbformat_minor": 5
}
