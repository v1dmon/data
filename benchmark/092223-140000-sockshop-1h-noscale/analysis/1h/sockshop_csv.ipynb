{
 "cells": [
  {
   "cell_type": "markdown",
   "id": "2593dd94-7a4d-4a21-bc95-9165f83d9e2d",
   "metadata": {},
   "source": [
    "# Sockshop csv"
   ]
  },
  {
   "cell_type": "markdown",
   "id": "f92eda66-fc2a-480c-aeec-810fbb51e9db",
   "metadata": {},
   "source": [
    "- day length: 1h\n",
    "- number of iteration: 3 for each day\n",
    "- captured payloads: network, structure, metrics"
   ]
  },
  {
   "cell_type": "code",
   "execution_count": 1,
   "id": "53ca7a81-f6ab-4d15-b14e-7aa57e9e9694",
   "metadata": {},
   "outputs": [],
   "source": [
    "import import_ipynb\n",
    "import dataframe_image as dfi\n",
    "import pandas as pd\n",
    "import plotly.graph_objects as go\n",
    "from plotly.subplots import make_subplots"
   ]
  },
  {
   "cell_type": "code",
   "execution_count": 2,
   "id": "5f6e3c41-5731-4daf-be69-d735ab845aba",
   "metadata": {},
   "outputs": [],
   "source": [
    "pd.options.plotting.backend = \"plotly\""
   ]
  },
  {
   "cell_type": "code",
   "execution_count": 3,
   "id": "4048565e-d35d-4443-bf92-e3095b6453e0",
   "metadata": {},
   "outputs": [],
   "source": [
    "import plotly.io as pio\n",
    "pio.renderers.default = \"jupyterlab\""
   ]
  },
  {
   "cell_type": "code",
   "execution_count": 4,
   "id": "6232efc1-9711-4057-928c-8016f60dc87c",
   "metadata": {},
   "outputs": [
    {
     "name": "stdout",
     "output_type": "stream",
     "text": [
      "CPU times: user 5.09 s, sys: 2.04 s, total: 7.13 s\n",
      "Wall time: 7.14 s\n"
     ]
    }
   ],
   "source": [
    "%%time\n",
    "%%capture\n",
    "import sockshop_t1hi1 as t1hi1\n",
    "import sockshop_t1hi2 as t1hi2\n",
    "import sockshop_t1hi3 as t1hi3"
   ]
  },
  {
   "cell_type": "markdown",
   "id": "ddbb4222-1e1a-4dde-8416-3c63fc1eb95b",
   "metadata": {},
   "source": [
    "## Metrics results"
   ]
  },
  {
   "cell_type": "code",
   "execution_count": 5,
   "id": "2b7b4cab-bcb5-4457-9611-01c7dfae94ce",
   "metadata": {},
   "outputs": [
    {
     "data": {
      "text/html": [
       "<div>\n",
       "<style scoped>\n",
       "    .dataframe tbody tr th:only-of-type {\n",
       "        vertical-align: middle;\n",
       "    }\n",
       "\n",
       "    .dataframe tbody tr th {\n",
       "        vertical-align: top;\n",
       "    }\n",
       "\n",
       "    .dataframe thead th {\n",
       "        text-align: right;\n",
       "    }\n",
       "</style>\n",
       "<table border=\"1\" class=\"dataframe\">\n",
       "  <thead>\n",
       "    <tr style=\"text-align: right;\">\n",
       "      <th></th>\n",
       "      <th>mean of means</th>\n",
       "      <th>std of means</th>\n",
       "      <th>95% conf interval</th>\n",
       "    </tr>\n",
       "    <tr>\n",
       "      <th>t1hi1</th>\n",
       "      <th></th>\n",
       "      <th></th>\n",
       "      <th></th>\n",
       "    </tr>\n",
       "  </thead>\n",
       "  <tbody>\n",
       "    <tr>\n",
       "      <th>Time delta</th>\n",
       "      <td>0.798521</td>\n",
       "      <td>0.0</td>\n",
       "      <td>(0.7985214342963213, 0.7985214342963213)</td>\n",
       "    </tr>\n",
       "    <tr>\n",
       "      <th>CPU usage percentage</th>\n",
       "      <td>0.665470</td>\n",
       "      <td>0.0</td>\n",
       "      <td>(0.6654704842144246, 0.6654704842144246)</td>\n",
       "    </tr>\n",
       "    <tr>\n",
       "      <th>Memory usage percentage</th>\n",
       "      <td>0.783405</td>\n",
       "      <td>0.0</td>\n",
       "      <td>(0.7834053791315618, 0.7834053791315618)</td>\n",
       "    </tr>\n",
       "    <tr>\n",
       "      <th>Throughput</th>\n",
       "      <td>9.000271</td>\n",
       "      <td>0.0</td>\n",
       "      <td>(9.000271176497998, 9.000271176497998)</td>\n",
       "    </tr>\n",
       "    <tr>\n",
       "      <th>Latency mean (s)</th>\n",
       "      <td>0.011875</td>\n",
       "      <td>0.0</td>\n",
       "      <td>(0.01187498, 0.01187498)</td>\n",
       "    </tr>\n",
       "  </tbody>\n",
       "</table>\n",
       "</div>"
      ],
      "text/plain": [
       "                         mean of means  std of means  \\\n",
       "t1hi1                                                  \n",
       "Time delta                    0.798521           0.0   \n",
       "CPU usage percentage          0.665470           0.0   \n",
       "Memory usage percentage       0.783405           0.0   \n",
       "Throughput                    9.000271           0.0   \n",
       "Latency mean (s)              0.011875           0.0   \n",
       "\n",
       "                                                95% conf interval  \n",
       "t1hi1                                                              \n",
       "Time delta               (0.7985214342963213, 0.7985214342963213)  \n",
       "CPU usage percentage     (0.6654704842144246, 0.6654704842144246)  \n",
       "Memory usage percentage  (0.7834053791315618, 0.7834053791315618)  \n",
       "Throughput                 (9.000271176497998, 9.000271176497998)  \n",
       "Latency mean (s)                         (0.01187498, 0.01187498)  "
      ]
     },
     "execution_count": 5,
     "metadata": {},
     "output_type": "execute_result"
    }
   ],
   "source": [
    "t1hi1_results = pd.concat([t1hi1.timedelta_results, t1hi1.cpu_usage_results, t1hi1.memory_usage_results, \\\n",
    "                           t1hi1.throughput_results, t1hi1.latency_mean_results])\n",
    "t1hi1_results.index.name = \"t1hi1\"\n",
    "t1hi1_results"
   ]
  },
  {
   "cell_type": "code",
   "execution_count": 6,
   "id": "14fc5001-c182-4784-a731-3752497d0fdd",
   "metadata": {},
   "outputs": [],
   "source": [
    "# t1hi1_results.dfi.export('images/t1hi1.png')"
   ]
  },
  {
   "cell_type": "code",
   "execution_count": 7,
   "id": "6c04d73e-52ae-4093-9e9f-da6535e712e3",
   "metadata": {},
   "outputs": [],
   "source": [
    "t1hi1_results.to_csv('t1hi1.csv')"
   ]
  },
  {
   "cell_type": "code",
   "execution_count": 8,
   "id": "c8a70464-a9fb-447d-94db-7cf39f01c905",
   "metadata": {},
   "outputs": [
    {
     "data": {
      "text/html": [
       "<div>\n",
       "<style scoped>\n",
       "    .dataframe tbody tr th:only-of-type {\n",
       "        vertical-align: middle;\n",
       "    }\n",
       "\n",
       "    .dataframe tbody tr th {\n",
       "        vertical-align: top;\n",
       "    }\n",
       "\n",
       "    .dataframe thead th {\n",
       "        text-align: right;\n",
       "    }\n",
       "</style>\n",
       "<table border=\"1\" class=\"dataframe\">\n",
       "  <thead>\n",
       "    <tr style=\"text-align: right;\">\n",
       "      <th></th>\n",
       "      <th>mean of means</th>\n",
       "      <th>std of means</th>\n",
       "      <th>95% conf interval</th>\n",
       "    </tr>\n",
       "    <tr>\n",
       "      <th>t1hi2</th>\n",
       "      <th></th>\n",
       "      <th></th>\n",
       "      <th></th>\n",
       "    </tr>\n",
       "  </thead>\n",
       "  <tbody>\n",
       "    <tr>\n",
       "      <th>Time delta</th>\n",
       "      <td>0.802222</td>\n",
       "      <td>0.0</td>\n",
       "      <td>(0.8022216351855399, 0.8022216351855399)</td>\n",
       "    </tr>\n",
       "    <tr>\n",
       "      <th>CPU usage percentage</th>\n",
       "      <td>0.646766</td>\n",
       "      <td>0.0</td>\n",
       "      <td>(0.646766166805517, 0.646766166805517)</td>\n",
       "    </tr>\n",
       "    <tr>\n",
       "      <th>Memory usage percentage</th>\n",
       "      <td>0.781123</td>\n",
       "      <td>0.0</td>\n",
       "      <td>(0.7811227344256225, 0.7811227344256225)</td>\n",
       "    </tr>\n",
       "    <tr>\n",
       "      <th>Throughput</th>\n",
       "      <td>9.000270</td>\n",
       "      <td>0.0</td>\n",
       "      <td>(9.000269551060343, 9.000269551060343)</td>\n",
       "    </tr>\n",
       "    <tr>\n",
       "      <th>Latency mean (s)</th>\n",
       "      <td>0.011975</td>\n",
       "      <td>0.0</td>\n",
       "      <td>(0.011974665, 0.011974665)</td>\n",
       "    </tr>\n",
       "  </tbody>\n",
       "</table>\n",
       "</div>"
      ],
      "text/plain": [
       "                         mean of means  std of means  \\\n",
       "t1hi2                                                  \n",
       "Time delta                    0.802222           0.0   \n",
       "CPU usage percentage          0.646766           0.0   \n",
       "Memory usage percentage       0.781123           0.0   \n",
       "Throughput                    9.000270           0.0   \n",
       "Latency mean (s)              0.011975           0.0   \n",
       "\n",
       "                                                95% conf interval  \n",
       "t1hi2                                                              \n",
       "Time delta               (0.8022216351855399, 0.8022216351855399)  \n",
       "CPU usage percentage       (0.646766166805517, 0.646766166805517)  \n",
       "Memory usage percentage  (0.7811227344256225, 0.7811227344256225)  \n",
       "Throughput                 (9.000269551060343, 9.000269551060343)  \n",
       "Latency mean (s)                       (0.011974665, 0.011974665)  "
      ]
     },
     "execution_count": 8,
     "metadata": {},
     "output_type": "execute_result"
    }
   ],
   "source": [
    "t1hi2_results = pd.concat([t1hi2.timedelta_results, t1hi2.cpu_usage_results, t1hi2.memory_usage_results, \\\n",
    "                           t1hi2.throughput_results, t1hi2.latency_mean_results])\n",
    "t1hi2_results.index.name = \"t1hi2\"\n",
    "t1hi2_results"
   ]
  },
  {
   "cell_type": "code",
   "execution_count": 9,
   "id": "bb272bf4-3e90-4626-a92e-711b271964eb",
   "metadata": {},
   "outputs": [],
   "source": [
    "# t1hi2_results.dfi.export('images/t1hi2.png')"
   ]
  },
  {
   "cell_type": "code",
   "execution_count": 10,
   "id": "ed6c0787-71e7-49a1-abd8-49d083bae88c",
   "metadata": {},
   "outputs": [],
   "source": [
    "t1hi2_results.to_csv('t1hi2.csv')"
   ]
  },
  {
   "cell_type": "code",
   "execution_count": 11,
   "id": "50e38e30-6093-44a5-add5-0ddf642c8d02",
   "metadata": {},
   "outputs": [
    {
     "data": {
      "text/html": [
       "<div>\n",
       "<style scoped>\n",
       "    .dataframe tbody tr th:only-of-type {\n",
       "        vertical-align: middle;\n",
       "    }\n",
       "\n",
       "    .dataframe tbody tr th {\n",
       "        vertical-align: top;\n",
       "    }\n",
       "\n",
       "    .dataframe thead th {\n",
       "        text-align: right;\n",
       "    }\n",
       "</style>\n",
       "<table border=\"1\" class=\"dataframe\">\n",
       "  <thead>\n",
       "    <tr style=\"text-align: right;\">\n",
       "      <th></th>\n",
       "      <th>mean of means</th>\n",
       "      <th>std of means</th>\n",
       "      <th>95% conf interval</th>\n",
       "    </tr>\n",
       "    <tr>\n",
       "      <th>t1hi3</th>\n",
       "      <th></th>\n",
       "      <th></th>\n",
       "      <th></th>\n",
       "    </tr>\n",
       "  </thead>\n",
       "  <tbody>\n",
       "    <tr>\n",
       "      <th>Time delta</th>\n",
       "      <td>0.084451</td>\n",
       "      <td>0.0</td>\n",
       "      <td>(0.08445053187899047, 0.08445053187899047)</td>\n",
       "    </tr>\n",
       "    <tr>\n",
       "      <th>CPU usage percentage</th>\n",
       "      <td>0.658610</td>\n",
       "      <td>0.0</td>\n",
       "      <td>(0.6586095740740741, 0.6586095740740741)</td>\n",
       "    </tr>\n",
       "    <tr>\n",
       "      <th>Memory usage percentage</th>\n",
       "      <td>0.801327</td>\n",
       "      <td>0.0</td>\n",
       "      <td>(0.8013267129629629, 0.8013267129629629)</td>\n",
       "    </tr>\n",
       "    <tr>\n",
       "      <th>Throughput</th>\n",
       "      <td>9.000266</td>\n",
       "      <td>0.0</td>\n",
       "      <td>(9.000266039766396, 9.000266039766396)</td>\n",
       "    </tr>\n",
       "    <tr>\n",
       "      <th>Latency mean (s)</th>\n",
       "      <td>0.002610</td>\n",
       "      <td>0.0</td>\n",
       "      <td>(0.002609798, 0.002609798)</td>\n",
       "    </tr>\n",
       "  </tbody>\n",
       "</table>\n",
       "</div>"
      ],
      "text/plain": [
       "                         mean of means  std of means  \\\n",
       "t1hi3                                                  \n",
       "Time delta                    0.084451           0.0   \n",
       "CPU usage percentage          0.658610           0.0   \n",
       "Memory usage percentage       0.801327           0.0   \n",
       "Throughput                    9.000266           0.0   \n",
       "Latency mean (s)              0.002610           0.0   \n",
       "\n",
       "                                                  95% conf interval  \n",
       "t1hi3                                                                \n",
       "Time delta               (0.08445053187899047, 0.08445053187899047)  \n",
       "CPU usage percentage       (0.6586095740740741, 0.6586095740740741)  \n",
       "Memory usage percentage    (0.8013267129629629, 0.8013267129629629)  \n",
       "Throughput                   (9.000266039766396, 9.000266039766396)  \n",
       "Latency mean (s)                         (0.002609798, 0.002609798)  "
      ]
     },
     "execution_count": 11,
     "metadata": {},
     "output_type": "execute_result"
    }
   ],
   "source": [
    "t1hi3_results = pd.concat([t1hi3.timedelta_results, t1hi3.cpu_usage_results, t1hi3.memory_usage_results, \\\n",
    "                           t1hi3.throughput_results, t1hi3.latency_mean_results])\n",
    "t1hi3_results.index.name = \"t1hi3\"\n",
    "t1hi3_results"
   ]
  },
  {
   "cell_type": "code",
   "execution_count": 12,
   "id": "600e4ed4-8a6d-4443-a01d-7e6ea0ba2a54",
   "metadata": {},
   "outputs": [],
   "source": [
    "# t1hi3_results.dfi.export('images/t1hi3.png')"
   ]
  },
  {
   "cell_type": "code",
   "execution_count": 13,
   "id": "3601a76f-a3bb-4fc0-88f9-4513efb6ca42",
   "metadata": {},
   "outputs": [],
   "source": [
    "t1hi3_results.to_csv('t1hi3.csv')"
   ]
  }
 ],
 "metadata": {
  "kernelspec": {
   "display_name": "Python 3 (ipykernel)",
   "language": "python",
   "name": "python3"
  },
  "language_info": {
   "codemirror_mode": {
    "name": "ipython",
    "version": 3
   },
   "file_extension": ".py",
   "mimetype": "text/x-python",
   "name": "python",
   "nbconvert_exporter": "python",
   "pygments_lexer": "ipython3",
   "version": "3.11.5"
  }
 },
 "nbformat": 4,
 "nbformat_minor": 5
}
